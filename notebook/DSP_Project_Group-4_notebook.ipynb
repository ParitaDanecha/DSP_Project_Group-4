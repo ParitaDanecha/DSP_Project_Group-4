{
 "cells": [
  {
   "cell_type": "code",
   "execution_count": 1,
   "metadata": {},
   "outputs": [],
   "source": [
    "from pathlib import Path\n",
    "ROOT_DIR = Path('../')\n",
    "DATA_DIR = ROOT_DIR / 'data'\n",
    "MODELS_DIR = ROOT_DIR / 'models'\n",
    "\n",
    "train_filepath = DATA_DIR / 'bigmart_Train-Set.csv'\n",
    "test_filepath = DATA_DIR / 'bigmart_Test-Set.csv'"
   ]
  },
  {
   "cell_type": "code",
   "execution_count": 2,
   "metadata": {},
   "outputs": [
    {
     "data": {
      "text/plain": [
       "['C:\\\\Users\\\\HP\\\\DSP_Project_Group-4\\\\notebook',\n",
       " 'C:\\\\ProgramData\\\\Anacond\\\\python38.zip',\n",
       " 'C:\\\\ProgramData\\\\Anacond\\\\DLLs',\n",
       " 'C:\\\\ProgramData\\\\Anacond\\\\lib',\n",
       " 'C:\\\\ProgramData\\\\Anacond',\n",
       " '',\n",
       " 'C:\\\\Users\\\\HP\\\\AppData\\\\Roaming\\\\Python\\\\Python38\\\\site-packages',\n",
       " 'C:\\\\ProgramData\\\\Anacond\\\\lib\\\\site-packages',\n",
       " 'C:\\\\ProgramData\\\\Anacond\\\\lib\\\\site-packages\\\\win32',\n",
       " 'C:\\\\ProgramData\\\\Anacond\\\\lib\\\\site-packages\\\\win32\\\\lib',\n",
       " 'C:\\\\ProgramData\\\\Anacond\\\\lib\\\\site-packages\\\\Pythonwin',\n",
       " 'C:\\\\ProgramData\\\\Anacond\\\\lib\\\\site-packages\\\\IPython\\\\extensions',\n",
       " 'C:\\\\Users\\\\HP\\\\.ipython',\n",
       " '../',\n",
       " '../app']"
      ]
     },
     "execution_count": 2,
     "metadata": {},
     "output_type": "execute_result"
    }
   ],
   "source": [
    "import sys\n",
    "sys.path.append('../')\n",
    "sys.path.append('../app')\n",
    "sys.path"
   ]
  },
  {
   "cell_type": "markdown",
   "metadata": {},
   "source": [
    "# Training pipeline"
   ]
  },
  {
   "cell_type": "code",
   "execution_count": 3,
   "metadata": {},
   "outputs": [
    {
     "name": "stdout",
     "output_type": "stream",
     "text": [
      "r2_score:  0.1133715276424131 , mean_absolute_error:  1157.261037089572 , mean_squared_error:  1554.4728932257115\n"
     ]
    },
    {
     "data": {
      "text/plain": [
       "{'r2_score': 0.1133715276424131,\n",
       " 'mean_absolute_error': 1157.261037089572,\n",
       " 'mean_squared_error': 1554.4728932257115}"
      ]
     },
     "execution_count": 3,
     "metadata": {},
     "output_type": "execute_result"
    }
   ],
   "source": [
    "from training import train\n",
    "\n",
    "dict = train(train_filepath, MODELS_DIR)\n",
    "dict"
   ]
  },
  {
   "cell_type": "markdown",
   "metadata": {},
   "source": [
    "# Inference pipeline"
   ]
  },
  {
   "cell_type": "code",
   "execution_count": 4,
   "metadata": {},
   "outputs": [
    {
     "data": {
      "text/plain": [
       "array([1400.953057  , 1126.84899897, 4012.004272  , ..., 1961.240402  ,\n",
       "       2705.634763  , 3292.201234  ])"
      ]
     },
     "execution_count": 4,
     "metadata": {},
     "output_type": "execute_result"
    }
   ],
   "source": [
    "from inference import inference\n",
    "\n",
    "inference(test_filepath, MODELS_DIR)"
   ]
  }
 ],
 "metadata": {
  "kernelspec": {
   "display_name": "Python 3",
   "language": "python",
   "name": "python3"
  },
  "language_info": {
   "codemirror_mode": {
    "name": "ipython",
    "version": 3
   },
   "file_extension": ".py",
   "mimetype": "text/x-python",
   "name": "python",
   "nbconvert_exporter": "python",
   "pygments_lexer": "ipython3",
   "version": "3.8.5"
  },
  "toc": {
   "base_numbering": 1,
   "nav_menu": {},
   "number_sections": true,
   "sideBar": true,
   "skip_h1_title": false,
   "title_cell": "Table of Contents",
   "title_sidebar": "Contents",
   "toc_cell": false,
   "toc_position": {},
   "toc_section_display": true,
   "toc_window_display": false
  }
 },
 "nbformat": 4,
 "nbformat_minor": 4
}
